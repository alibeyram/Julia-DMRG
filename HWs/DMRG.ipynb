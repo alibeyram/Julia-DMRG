{
 "cells": [
  {
   "cell_type": "code",
   "execution_count": null,
   "metadata": {
    "collapsed": false
   },
   "outputs": [],
   "source": [
    "function dosvdtrunc(AA,m)\t\t# AA a matrix;  keep at most m states\n",
    "    (u,d,v) = svd(AA)\n",
    "    prob = dot(d,d)\t\t# total probability\n",
    "    mm = min(m,length(d))\t# number of states to keep\n",
    "    d = d[1:mm]\t\t\t# middle matrix in vector form\n",
    "    trunc = prob - dot(d,d)\n",
    "    U = u[:,1:mm]\n",
    "    V = v[:,1:mm]'\n",
    "    (U,d,V,trunc)\t\t# AA == U * diagm(d) * V\twith error trunc\n",
    "end\n",
    "\n",
    "function dosvdleftright(AA,m,toright)\n",
    "    (U,d,V,trunc) = dosvdtrunc(AA,m)\n",
    "    if toright\n",
    "\tV = diagm(d) * V\n",
    "    else\n",
    "\tU = U * diagm(d)\n",
    "    end\n",
    "    (U,V,trunc)\n",
    "end\n",
    "\n",
    "function dosvd4(AA,m,toright)\t# AA is ia * 2 * 2 * ib;  svd down the middle;  return two parts\n",
    "    ia = size(AA,1)\n",
    "    ib = size(AA,4)\n",
    "    AA = reshape(AA,ia*2,2*ib)\n",
    "    (U,V,trunc) = dosvdleftright(AA,m,toright)\n",
    "    mm = size(U,2)\n",
    "    U = reshape(U,ia,2,mm)\n",
    "    V = reshape(V,mm,2,ib)\n",
    "    (U,V,trunc)\n",
    "end\n",
    "\n",
    "using TensorOperations\n",
    "\n",
    "function JK(a,b)\t# Julia kron,  ordered for julia arrays; returns matrix\n",
    "    #     return kron(b,a)\n",
    "    (a1,a2) = size(a)\n",
    "    (b1,b2) = size(b)\n",
    "    reshape(Float64[a[i,ip] * b[j,jp] for i=1:a1, j=1:b1, ip=1:a2, jp=1:b2],a1*b1,a2*b2)\n",
    "end\n",
    "\n",
    "function JK4(a,b)\t# Julia kron,  ordered for julia arrays, return expanded into 4 indices\n",
    "    (a1,a2) = size(a)\n",
    "    (b1,b2) = size(b)\n",
    "    Float64[a[i,ip] * b[j,jp] for i=1:a1, j=1:b1, ip=1:a2, jp=1:b2]\n",
    "end\n",
    "\n",
    "sz = Float64[0.5 0; 0 -0.5]\n",
    "sp = Float64[0 1; 0 0]\n",
    "sm = sp'\n",
    "Htwosite = reshape(JK(sz,sz) + 0.5 * JK(sp,sm) + 0.5 * JK(sm,sp),2,2,2,2)\n",
    "# order for Htwosite is s1, s2, s1p, s2p\n",
    "\n",
    "n = 28\t\t# exact n=28 energy is -12.2254405486\n",
    "#  Make initial product state in up down up down up down pattern (Neel state)\n",
    "# Make first tensor a 1 x 2 x m tensor; and last is m x 2 x 1  (rather than vectors)\n",
    "A = [zeros(1,2,1) for i=1:n]\n",
    "for i=1:n\n",
    "    A[i][1,iseven(i) ? 2 : 1,1] = 1.0\t\n",
    "end\n",
    "\n",
    "HLR = [zeros(1,1) for i=1:n]\t# Initialize to avoid errors on first sweep\n",
    "m = 3\n",
    "for swp = 0:1\n",
    "    m = round(Int64,1.3*m)\n",
    "    for ii=-n+1:n-1\t\t# if negative, going right to left\n",
    "#         @show HLR\n",
    "        ii == 0 && continue\n",
    "        i = abs(ii)\n",
    "        toright = ii > 0\n",
    "\n",
    "        println(\"\\n sweep, i, dir, m = $swp, $i, \",toright ? \"to right\" : \"to left\",\" $m\")\n",
    "\n",
    "        dleft = size(A[i],1)\n",
    "        alpha = dleft * 2\n",
    "        dright = size(A[i+1],3)\n",
    "        beta = 2 * dright\n",
    "        onesite = eye(2)\n",
    "\n",
    "        HL = zeros(dleft,2,dleft,2)\n",
    "        HR = zeros(2,dright,2,dright)\n",
    "        if i > 1\n",
    "            Aim1 = A[i-1] # Ai  minus 1\n",
    "            @tensor begin\n",
    "            HL[a,si,ap,sip] := Htwosite[sim1,si,sim1p,sip] * Aim1[b,sim1,a] * Aim1[b,sim1p,ap]\n",
    "            end\n",
    "            i > 2 && ( HL += JK4(HLR[i-1],onesite) )\n",
    "        end\n",
    "        HL = reshape(HL,alpha,alpha)\n",
    "        if i < n-1\n",
    "            Ai2 = A[i+2]\n",
    "            @tensor begin\n",
    "            HR[si1,b,si1p,bp] := Htwosite[si1,si2,si1p,si2p] * Ai2[b,si2,a] * Ai2[bp,si2p,a]\n",
    "            end\n",
    "            i < n-2 && (HR += JK4(onesite,HLR[i+2]) )\n",
    "        end\n",
    "        HR = reshape(HR,beta,beta)\n",
    "\n",
    "        Oleft =  Any[JK(eye(dleft),sz), 0.5*JK(eye(dleft),sp), 0.5*JK(eye(dleft),sm)]\n",
    "        Oright = Any[JK(sz,eye(dright)),JK(sm,eye(dright)),JK(sp,eye(dright))]\n",
    "\n",
    "        Ai = A[i]\n",
    "        Ai1 = A[i+1]\n",
    "        @tensor begin\n",
    "            AA[a,b,d,e] := Ai[a,b,c] * Ai1[c,d,e]\n",
    "        end\n",
    "\n",
    "    #  Inefficient implementation:  m^4   Ham construction\n",
    "        Ham = zeros(alpha*beta,alpha*beta)\n",
    "        for j=1:length(Oleft)\n",
    "            ### why reshape again?\n",
    "            Ham += JK(reshape(Oleft[j],alpha,alpha),reshape(Oright[j],beta,beta))  \n",
    "        end\n",
    "        if i > 1\n",
    "            Ham += JK(HL,eye(beta))\n",
    "        end\n",
    "        if i < n-1\n",
    "            Ham += JK(eye(alpha),HR)\n",
    "        end\n",
    "        ## What's the extra reshapes for? JK reshape everything\n",
    "        bigH = reshape(Ham,alpha*beta,alpha*beta)\n",
    "        bigH = 0.5 * (bigH + bigH')\n",
    "        #why do you choose AA for initial vector? beacuse it was ground state in the last sweep\n",
    "        evn = eigs(bigH;nev=1, which=:SR,ritzvec=true,v0=reshape(AA,alpha*beta))\n",
    "        @show evn[1]\n",
    "        @show size(evn[2])\n",
    "        gr = evn[2][:,1]\n",
    "\n",
    "        AA = reshape(gr,dleft,2,2,dright)\n",
    "\n",
    "        (A[i],A[i+1],trunc) = dosvd4(AA,m,toright)\n",
    "        @show trunc\n",
    "        if toright \n",
    "            if 1 < i < n-1\n",
    "            (i1,i2,i3) = size(A[i])\n",
    "            Ai2 = reshape(A[i],i1*i2,i3)\n",
    "            @tensor begin\n",
    "                hlri[b,bp] := HL[a,ap] * Ai2[a,b] * Ai2[ap,bp]\n",
    "            end\n",
    "            HLR[i] = hlri\n",
    "            end\n",
    "        else\n",
    "            if 1 < i < n-1\n",
    "            (i1,i2,i3) = size(A[i+1])\n",
    "            Ai12 = reshape(A[i+1],i1,i2*i3)\n",
    "            @tensor begin\n",
    "                hlri1[a,ap] := HR[b,bp] * Ai12[a,b] * Ai12[ap,bp]\n",
    "            end\n",
    "            HLR[i+1] = hlri1\n",
    "            end\n",
    "        end\n",
    "    end\n",
    "end\n",
    "\n"
   ]
  },
  {
   "cell_type": "code",
   "execution_count": 1,
   "metadata": {
    "collapsed": false
   },
   "outputs": [
    {
     "name": "stdout",
     "output_type": "stream",
     "text": [
      "A = Union{ASCIIString,UTF8String}[\"a[1,1]\" \"a[1,2]\"\n",
      "                              \"a[2,1]\" \"a[2,2]\"]\n",
      "B = Union{ASCIIString,UTF8String}[\"b[1,1]\" \"b[1,2]\" \"b[1,3]\"\n",
      "                              \"b[2,1]\" \"b[2,2]\" \"b[2,3]\"\n",
      "                              \"b[3,1]\" \"b[3,2]\" \"b[3,3]\"]\n",
      "B[2,3] = \"b[2,3]\"\n",
      "k = kron(B,A) = Union{ASCIIString,UTF8String}[\"b[1,1]a[1,1]\" \"b[1,1]a[1,2]\" \"b[1,2]a[1,1]\" \"b[1,2]a[1,2]\" \"b[1,3]a[1,1]\" \"b[1,3]a[1,2]\"\n",
      "                              \"b[1,1]a[2,1]\" \"b[1,1]a[2,2]\" \"b[1,2]a[2,1]\" \"b[1,2]a[2,2]\" \"b[1,3]a[2,1]\" \"b[1,3]a[2,2]\"\n",
      "                              \"b[2,1]a[1,1]\" \"b[2,1]a[1,2]\" \"b[2,2]a[1,1]\" \"b[2,2]a[1,2]\" \"b[2,3]a[1,1]\" \"b[2,3]a[1,2]\"\n",
      "                              \"b[2,1]a[2,1]\" \"b[2,1]a[2,2]\" \"b[2,2]a[2,1]\" \"b[2,2]a[2,2]\" \"b[2,3]a[2,1]\" \"b[2,3]a[2,2]\"\n",
      "                              \"b[3,1]a[1,1]\" \"b[3,1]a[1,2]\" \"b[3,2]a[1,1]\" \"b[3,2]a[1,2]\" \"b[3,3]a[1,1]\" \"b[3,3]a[1,2]\"\n",
      "                              \"b[3,1]a[2,1]\" \"b[3,1]a[2,2]\" \"b[3,2]a[2,1]\" \"b[3,2]a[2,2]\" \"b[3,3]a[2,1]\" \"b[3,3]a[2,2]\"]\n",
      "jk[2,5] = \"b[1,3]a[2,1] \"\n",
      "k[2,5] = \"b[1,3]a[2,1]\"\n"
     ]
    },
    {
     "data": {
      "text/plain": [
       "\"b[1,3]a[2,1]\""
      ]
     },
     "execution_count": 1,
     "metadata": {},
     "output_type": "execute_result"
    }
   ],
   "source": [
    "a1, a2, b1, b2 = 2, 2,3,3\n",
    "\n",
    "A = reshape([\"a[$i,$(ip)]\" for  i=1:a1, ip=1:a2],a1, a2)\n",
    "@show A\n",
    "B = reshape([\"b[$i,$(ip)]\" for  i=1:b1, ip=1:b2],b1, b2)\n",
    "@show B\n",
    "@show B[2,3]\n",
    "@show k = kron(B,A)\n",
    "# jk = reshape([\"a[$i,$(ip)] * b[$j,$(jp)]\"\n",
    "#     for i=1:a1, j=1:b1, ip=1:a2, jp=1:b2],a1*b1,a2*b2)\n",
    "jk = reshape([\"b[$j,$(jp)]a[$i,$(ip)] \"\n",
    "    for i=1:a1, j=1:b1, ip=1:a2, jp=1:b2],a1*b1,a2*b2)\n",
    "\n",
    "@show jk[2,5]\n",
    "@show k[2,5]\n",
    "\n",
    "# @show [\"b[$i,$(ip)]\" for  i=1:b1, ip=1:b2]\n",
    "# @show reshape([i * n for i=1:6, n=1:2],3,4)\n",
    "# reshape([\"A\", \"b\"],2,1)"
   ]
  },
  {
   "cell_type": "code",
   "execution_count": null,
   "metadata": {
    "collapsed": false
   },
   "outputs": [],
   "source": [
    "@show a = reshape(1:4 , 2,2)\n",
    "@show b = reshape(11:14, 2,2)\n",
    "# b =[1 2; 1 4]\n",
    "# reshape(a,9)\n",
    "@show kron(a,b)\n",
    "@show reshape(kron(a,b),16)\n",
    "@show kron(b,a)"
   ]
  },
  {
   "cell_type": "code",
   "execution_count": null,
   "metadata": {
    "collapsed": false
   },
   "outputs": [],
   "source": [
    "# test = [zeros(1,10)...]\n",
    "# @show test\n",
    "# test = zeros(1,10)\n",
    "# @show test\n",
    "test = [zeros(1,1) for i=1:10]\n",
    "@show test\n",
    "test[1] = ones(2,2)\n",
    "# test = [zeros(1,1)]\n",
    "# test[1] = ones(2)\n",
    "# @show test\n",
    "\n",
    "# test = zeros(1,10)\n",
    "# @show test\n",
    "# test[1] = ones(2)\n",
    "# @show [i for i=0:5]"
   ]
  },
  {
   "cell_type": "code",
   "execution_count": 7,
   "metadata": {
    "collapsed": false
   },
   "outputs": [
    {
     "name": "stdout",
     "output_type": "stream",
     "text": [
      "  0.000082 seconds (6 allocations: 258.031 KB)\n",
      "  0.025545 seconds (23.91 k allocations: 1.237 MB)\n"
     ]
    },
    {
     "data": {
      "text/plain": [
       "true"
      ]
     },
     "execution_count": 7,
     "metadata": {},
     "output_type": "execute_result"
    }
   ],
   "source": [
    "function JK(a,b)\t# Julia kron,  ordered for julia arrays; returns matrix\n",
    "    #     return kron(b,a)\n",
    "    (a1,a2) = size(a)\n",
    "    (b1,b2) = size(b)\n",
    "    reshape(Float64[a[i,ip] * b[j,jp] for i=1:a1, j=1:b1, ip=1:a2, jp=1:b2],a1*b1,a2*b2)\n",
    "end\n",
    "\n",
    "a = rand(10,22)\n",
    "b = rand(15, 10)\n",
    "@time M2 = kron(b,a)\n",
    "@time M1 = JK(a,b)\n",
    "M1==M2"
   ]
  },
  {
   "cell_type": "code",
   "execution_count": 8,
   "metadata": {
    "collapsed": false
   },
   "outputs": [
    {
     "data": {
      "text/plain": [
       "(10,15,22,10)"
      ]
     },
     "execution_count": 8,
     "metadata": {},
     "output_type": "execute_result"
    }
   ],
   "source": [
    "function JK4(a,b)\t# Julia kron,  ordered for julia arrays, return expanded into 4 indices\n",
    "    (a1,a2) = size(a)\n",
    "    (b1,b2) = size(b)\n",
    "    Float64[a[i,ip] * b[j,jp] for i=1:a1, j=1:b1, ip=1:a2, jp=1:b2]\n",
    "end\n",
    "\n",
    "size(JK4(a,b))\n"
   ]
  },
  {
   "cell_type": "code",
   "execution_count": 15,
   "metadata": {
    "collapsed": false
   },
   "outputs": [
    {
     "ename": "LoadError",
     "evalue": "LoadError: MethodError: `spzeros` has no method matching spzeros(::Type{Float64}, ::Int64, ::Int64, ::Int64, ::Int64)\nClosest candidates are:\n  spzeros(::Type{T}, ::Integer, ::Integer)\n  spzeros(::Type{T}, !Matched::Type{T}, ::Integer, ::Integer)\n  spzeros(!Matched::Integer, ::Integer)\nwhile loading In[15], in expression starting on line 5",
     "output_type": "error",
     "traceback": [
      "LoadError: MethodError: `spzeros` has no method matching spzeros(::Type{Float64}, ::Int64, ::Int64, ::Int64, ::Int64)\nClosest candidates are:\n  spzeros(::Type{T}, ::Integer, ::Integer)\n  spzeros(::Type{T}, !Matched::Type{T}, ::Integer, ::Integer)\n  spzeros(!Matched::Integer, ::Integer)\nwhile loading In[15], in expression starting on line 5",
      "",
      " in reshape at abstractarray.jl:213",
      " in reshape at abstractarray.jl:215"
     ]
    }
   ],
   "source": [
    "sz = sparse(Float64[0.5 0; 0 -0.5])\n",
    "sp = sparse(Float64[0 1; 0 0])\n",
    "sm = sparse(sp')\n",
    "temp =kron(sz,sz) + 0.5 * kron(sp,sm) + 0.5 * kron(sm,sp)\n",
    "Htwosite = reshape(temp,2,2,2,2)"
   ]
  }
 ],
 "metadata": {
  "kernelspec": {
   "display_name": "Julia 0.4.5",
   "language": "julia",
   "name": "julia-0.4"
  },
  "language_info": {
   "file_extension": ".jl",
   "mimetype": "application/julia",
   "name": "julia",
   "version": "0.4.5"
  }
 },
 "nbformat": 4,
 "nbformat_minor": 0
}
