{
 "cells": [
  {
   "cell_type": "markdown",
   "metadata": {},
   "source": [
    "dmrg = (psi, H, sweeps)\n",
    "\n",
    "auto sites = SpinHalf(N);\n",
    "\n",
    "auto psi = MPS(sites);\n",
    "\n",
    "auto state = InitState(sites);\n",
    "\n",
    "for(auto n:range1(N) ) state.set(n, n%2==1 ? \"up\": \"Dn\") ;\n",
    "\n",
    "auto psi = MPS(state);\n",
    "\n"
   ]
  },
  {
   "cell_type": "markdown",
   "metadata": {},
   "source": [
    "## How to make H?\n",
    "\n",
    "+ H is an MPO \n",
    "+ AutoMPO \n",
    "\n",
    "auto ampo =AuroMPO(state);\n",
    "\n",
    "+ Load things to MPO\n",
    "\n",
    " $H = \\sum_j S_j \\cdot S_j$\n",
    " \n",
    "for(auto j: range1(N-1))\n",
    "    \n",
    "    { ampo += \"sz\", j, \"sz\", j+1 ;\n",
    "      ampo += .5, \"s+\", j, \"s-\", j+1 ;\n",
    "      ....\n",
    "      }\n",
    "      \n",
    "auto H =MPO(ampo);\n",
    "\n",
    "Print(H.A(1));\n"
   ]
  },
  {
   "cell_type": "markdown",
   "metadata": {},
   "source": [
    "+ dmrg(psi , H, sweeps);\n",
    "\n",
    "+ auto sweeps = Sweeps(5);\n",
    "\n",
    "+ sweeps.maxm() = 20, 40, 60;\n",
    "\n",
    "+ sweeps.cutoff() = 1E-10 ;\n"
   ]
  },
  {
   "cell_type": "code",
   "execution_count": null,
   "metadata": {
    "collapsed": true
   },
   "outputs": [],
   "source": [
    "## Measuring local operators\n",
    "\n",
    "\n",
    "\n",
    "$< \\psi | S_1^z | \\psi> $\n",
    "\n",
    "\n",
    "$ psi.position(j) ; $\n",
    "\n",
    "\n",
    "$ auto sz = (psi.A(j)) * sites.op(\"sz\", j) * dag(prime(psi.A(j), Site)).real() ; $\n",
    "\n",
    "## corilation dunctions\n",
    "\n",
    "psi.position(i);\n",
    "\n",
    "auto ri = commonIndex(psi.A(i), psi.A(i+1) );\n",
    "\n",
    "auto L = psi.A(i) * sites.op(\"s+\" , i) * dag(prime(psi.A(i) , ri, Site)) \n",
    "\n",
    "\n",
    "for(auto n :range(i+1, j))\n",
    "    {\n",
    "        L *= psi.A(n)\n",
    "        ;\n",
    "        L *= dag(prime(psi.A(n), Link));\n",
    "    }\n",
    "\n",
    "    \n",
    "    auto li =  commenIndex(psi.A(i), psi.A(i-1));\n",
    "    \n",
    "    auto R = psi.A(j) * Site.op(\"S-\", j) * dag( prime(psi.A(j), li, Site))\n",
    "    \n",
    "    auto cf=(L *R).real();\n",
    "    \n",
    "    \n",
    "## Entangelment entropy\n",
    "    \n",
    "    dmrg(psi, H, sweeps);\n",
    "    \n",
    "    auto c = N/2\n",
    "    \n",
    "    psi.position(c);\n",
    "    \n",
    "    auto AA = psi.A(c) * psi.A(c+1) ;\n",
    "    \n",
    "    auto u  = psi.A(c);\n",
    "    \n",
    "    ITensor s, v;\n",
    "    \n",
    "    auto spectrum = svd(AA, u, s, v);\n",
    "    \n",
    "    auto P = spectrum.eigsKept();\n",
    "    \n",
    "    Real Sum = 0;\n",
    "    \n",
    "    for(auto p:P);\n",
    "        {\n",
    "            Sum += -p *log(p) \n",
    "        }\n",
    "    \n",
    "        printfln(\"At bond %d SUM = %.10f \", c, Sum)\n"
   ]
  },
  {
   "cell_type": "code",
   "execution_count": null,
   "metadata": {
    "collapsed": true
   },
   "outputs": [],
   "source": []
  },
  {
   "cell_type": "code",
   "execution_count": null,
   "metadata": {
    "collapsed": true
   },
   "outputs": [],
   "source": [
    "\n",
    "* psi()\n"
   ]
  }
 ],
 "metadata": {
  "kernelspec": {
   "display_name": "Julia 0.4.5",
   "language": "julia",
   "name": "julia-0.4"
  },
  "language_info": {
   "file_extension": ".jl",
   "mimetype": "application/julia",
   "name": "julia",
   "version": "0.4.5"
  }
 },
 "nbformat": 4,
 "nbformat_minor": 0
}
