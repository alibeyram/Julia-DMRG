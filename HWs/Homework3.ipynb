{
 "cells": [
  {
   "cell_type": "code",
   "execution_count": 9,
   "metadata": {
    "collapsed": false
   },
   "outputs": [
    {
     "name": "stdout",
     "output_type": "stream",
     "text": [
      "(n,sztot) = (10,0)\n",
      "  0.017433 seconds (8.93 k allocations: 469.701 KB)\n",
      "nb = 252\n",
      "  0.000292 seconds (631 allocations: 19.766 KB)\n",
      "  0.000078 seconds (157 allocations: 26.063 KB)\n",
      "Done setting up map\n",
      "  0.028582 seconds (15.44 k allocations: 846.446 KB)\n",
      "length(row) = 1512\n",
      "Done making H list\n",
      "  0.000074 seconds (14 allocations: 58.078 KB)\n",
      "Done making H\n",
      "  0.002663 seconds (458 allocations: 313.672 KB)\n",
      "Done with Lanczos\n",
      "evn[1] = [-4.2580352072828775]\n",
      "evn[3:5] = (1,5,60)\n"
     ]
    }
   ],
   "source": [
    "const n = 10\n",
    "const sztot = 0\t\t\t# 2 * Sztot, so an integer\n",
    "@show (n,sztot)\n",
    "\n",
    "const si1 = (fill(2,n)...)\t# array of size n, filled with 2's, convert to tuple\n",
    "\n",
    "function mysub2ind(inds::Vector{Int64},n::Int64)\t# This tests much faster than sub2ind\n",
    "    res = inds[n]-1\n",
    "    for i=n-1:-1:1\n",
    "\tres *= 2\n",
    "\tres += inds[i]-1\n",
    "    end\n",
    "    res+1\n",
    "end\n",
    "\n",
    "function getjind(inds::Vector{Int64},j)\t# get the index based on inds, but with j and j+1 sites swapped\n",
    "    (inds[j],inds[j+1]) = (inds[j+1],inds[j])\n",
    "    jind = mysub2ind(inds,n)\n",
    "    (inds[j],inds[j+1]) = (inds[j+1],inds[j])\t# put back in order, since array not copied\n",
    "    jind\n",
    "end\n",
    "\n",
    "function makeblock()\n",
    "    inblock = Vector{Int64}(0)\n",
    "    for i=1:2^n\n",
    "\tinds = [ind2sub(si1,i)...]\n",
    "\tsz = sum(j -> 2*inds[j]-3,1:n)\n",
    "\tsz == sztot && push!(inblock,i)\n",
    "    end\n",
    "    inblock\n",
    "end\n",
    "\n",
    "@time inblock = makeblock()\n",
    "const nb = length(inblock)\n",
    "@show nb\n",
    "\n",
    "@time tuplist = [(inblock[i],i) for i=1:nb]\n",
    "@time maptoind = Dict{Int64,Int64}(tuplist)\n",
    "println(\"Done setting up map\")\n",
    "flush(STDOUT)\n",
    "\n",
    "# Constructing the sparse matrix from three lists (row,col,value) is MUCH faster\n",
    "# than using spzeros to make an empty sparse matrix, and assigning to elements.\n",
    "# for n=20, about 100 times faster!\n",
    "    \n",
    "row = Vector{Int64}(0)\n",
    "col = Vector{Int64}(0)\n",
    "val = Vector{Float64}(0)\n",
    "\n",
    "diagterm(a) = 0.25 * sum(j->(a[j] == a[j+1] ? 1 : -1) ,1:length(a)-1)\n",
    "\n",
    "function dopush!(i,j,v) \t# put this element in terms lists\n",
    "    push!(row,i)\n",
    "    push!(col,j)\n",
    "    push!(val,v)\n",
    "end\n",
    "function getHlist()\n",
    "    for i=1:nb\n",
    "\tib = inblock[i]\n",
    "\tinds = [ind2sub(si1,ib)...]\n",
    "\tdopush!(i,i,diagterm(inds))\n",
    "\tfor j=1:n-1\n",
    "\t    inds[j] == inds[j+1] && continue\n",
    "\t    jind=getjind(inds,j)\n",
    "\t    dopush!(i,maptoind[jind],0.5)\n",
    "\tend\n",
    "    end\n",
    "end\n",
    "@time getHlist()\n",
    "@show length(row)\n",
    "println(\"Done making H list\")\n",
    "flush(STDOUT)\n",
    "\n",
    "@time H = sparse(row,col,val)\n",
    "println(\"Done making H\")\n",
    "flush(STDOUT)\n",
    "\n",
    "@time evn = eigs(H;nev=1, which=:SR)\n",
    "println(\"Done with Lanczos\")\n",
    "flush(STDOUT)\n",
    "\n",
    "@show evn[1]\n",
    "@show evn[3:5]\n",
    "flush(STDOUT)"
   ]
  },
  {
   "cell_type": "markdown",
   "metadata": {},
   "source": [
    "# HW3 Problem 1"
   ]
  },
  {
   "cell_type": "code",
   "execution_count": 2,
   "metadata": {
    "collapsed": false
   },
   "outputs": [
    {
     "name": "stderr",
     "output_type": "stream",
     "text": [
      "WARNING: imported binding for one overwritten in module Main\n"
     ]
    }
   ],
   "source": [
    "using PyPlot\n",
    "sz = Float64[0.5 0; \n",
    "\t     0 -0.5]\n",
    "sp = Float64[0 1; \n",
    "\t     0 0]\n",
    "sm = sp'\n",
    "one = eye(2)\n",
    "\n",
    "sz = sparse(sz)\n",
    "sp = sparse(sp)\n",
    "sm = sparse(sm)\n",
    "one = sparse(one)\n",
    "\n",
    "Hn = cell(20)\n",
    "Htwon = cell(20)\n",
    "function getHkronsparse(n)\n",
    "    Hn[2] = 0.5 * (kron(sp,sm) + kron(sm,sp)) + kron(sz,sz)\n",
    "    Htwon[2] = Hn[2]\n",
    "    for k=3:n\n",
    "\tHtwon[k] = kron(one,Htwon[k-1])\n",
    "\tHn[k] = kron(Hn[k-1],one) + Htwon[k]\n",
    "    end\n",
    "    Hn\n",
    "end\n",
    "Hn = getHkronsparse(16) ;\n",
    "flush(STDOUT)"
   ]
  },
  {
   "cell_type": "code",
   "execution_count": 166,
   "metadata": {
    "collapsed": false
   },
   "outputs": [
    {
     "data": {
      "image/png": "[encoded data removed]",
      "text/plain": [
       "PyPlot.Figure(PyObject <matplotlib.figure.Figure object at 0x7f99574e0278>)"
      ]
     },
     "metadata": {},
     "output_type": "display_data"
    },
    {
     "data": {
      "text/plain": [
       "PyObject <matplotlib.text.Text object at 0x7f9957e87f98>"
      ]
     },
     "execution_count": 166,
     "metadata": {},
     "output_type": "execute_result"
    }
   ],
   "source": [
    "# using PyPlot\n",
    "k = 16\n",
    "H = Hn[k]\n",
    "ev = eigs(H, nev=1)\n",
    "E = ev[1][1]\n",
    "psi = ev[2][:,1]\n",
    "# println(ev[1][1]/k)\n",
    "size = round(Int, 2^(k/2))\n",
    "U,S,V= svd(reshape(psi, size, size))\n",
    "delta = Array{Float64}(size)\n",
    "GS_error = Array{Float64}(size)\n",
    "E_approx = Array{Float64}(size)\n",
    "for m in 1:size\n",
    "    psiapprox = reshape(U[:,1:m]*diagm(S[1:m])*V'[1:m,:],size^2)\n",
    "    delta[m] = sum(S[m+1:end].^2)\n",
    "    GS_error[m] = vecnorm(psi-psiapprox)^2\n",
    "    E_approx[m] = (psiapprox'* H* psiapprox ./(psiapprox'*psiapprox))[1]\n",
    "end\n",
    "plot(E_approx -E, delta)\n",
    "plt[:xlabel](L\"$\\delta_m$\",fontsize=20)\n",
    "plt[:ylabel](L\"$\\Delta E_m$\",fontsize=20)"
   ]
  },
  {
   "cell_type": "markdown",
   "metadata": {},
   "source": [
    "## Problem 2 Hisenberg with edge filed ($B_z$)"
   ]
  },
  {
   "cell_type": "code",
   "execution_count": 173,
   "metadata": {
    "collapsed": false
   },
   "outputs": [],
   "source": [
    "Hn = cell(20)\n",
    "# Htwon = cell(20)\n",
    "## I am going to start from the right to build to the left\n",
    "function getHkronsparse_edge_B(n, B)\n",
    "    Hn[2] = 0.5 * (kron(sp,sm) + kron(sm,sp)) + kron(sz,sz) + B * kron(one, sz)\n",
    "#     Htwon[2] = 0.5 * (kron(sp,sm) + kron(sm,sp)) + kron(sz,sz)\n",
    "    Htwon = 0.5 * (kron(sp,sm) + kron(sm,sp)) + kron(sz,sz)\n",
    "#     H_first = Bn * kron(sz,one)\n",
    "    for k=3:n\n",
    "#         H_first = kron(one, H_first)\n",
    "#         Htwon[k] = kron(one,Htwon[k-1])\n",
    "#         Hn[k] = kron(Hn[k-1],one) + Htwon[k]\n",
    "        Htwon = kron(Htwon, one)\n",
    "        Hn[k] = kron(one, Hn[k-1]) + Htwon\n",
    "    end\n",
    "    Hn\n",
    "end\n",
    "function make_szn(n)\n",
    "    n==1 && return sz\n",
    "    szn = sz\n",
    "    for k=2:n\n",
    "        szn = kron(one, szn)\n",
    "#         szn = kron(szn, one)\n",
    "    end\n",
    "    szn\n",
    "end\n",
    "\n",
    "function szn(n)\n",
    "    m = 2^(n-1)\n",
    "#     sparse(1:2*m,1:2*m,.5*[ones(m)...,-ones(m)...])\n",
    "#     kron(sz,speye(m))\n",
    "    kron(speye(m),sz)\n",
    "end\n",
    "Hn = getHkronsparse_edge_B(16,.1) ;\n",
    "flush(STDOUT)"
   ]
  },
  {
   "cell_type": "code",
   "execution_count": 151,
   "metadata": {
    "collapsed": false
   },
   "outputs": [
    {
     "name": "stdout",
     "output_type": "stream",
     "text": [
      "  0.002603 seconds (80 allocations: 3.004 MB)\n",
      "  0.003032 seconds (24 allocations: 2.251 MB)\n"
     ]
    },
    {
     "data": {
      "text/plain": [
       "32x32 sparse matrix with 0 Float64 entries:"
      ]
     },
     "execution_count": 151,
     "metadata": {},
     "output_type": "execute_result"
    }
   ],
   "source": [
    "@time make_szn(16)\n",
    "@time szn(16)\n",
    "\n",
    "make_szn(5)-szn(5)"
   ]
  },
  {
   "cell_type": "code",
   "execution_count": 144,
   "metadata": {
    "collapsed": false
   },
   "outputs": [
    {
     "name": "stdout",
     "output_type": "stream",
     "text": [
      "trace(density_matrix) = 0.9999999999999999\n",
      "trace(density_matrix * szn(k)) = -0.06170069689323874\n",
      "sz_exp = (psi' * szn(k) * psi)[1] = -0.06170069689323874\n",
      "trace(DM_reduced * szn(Int(k / 2))) = -0.06170069689323881\n",
      "trace(U * diagm(S .^ 2) * U' * szn(Int(k / 2))) = -0.06170069689323867\n"
     ]
    },
    {
     "data": {
      "text/plain": [
       "0-element Array{Int64,1}"
      ]
     },
     "execution_count": 144,
     "metadata": {},
     "output_type": "execute_result"
    }
   ],
   "source": [
    "k = 4\n",
    "H = Hn[k]\n",
    "ev = eigs(H, nev=1)\n",
    "E = ev[1][1]\n",
    "psi = ev[2][:,1]\n",
    "size = round(Int, 2^(k/2))\n",
    "density_matrix = psi*psi'\n",
    "psi_ij = reshape(psi, size, size)\n",
    "DM_reduced = psi_ij *psi_ij'\n",
    "@show trace(density_matrix)\n",
    "U,S,V= svd(psi_ij)\n",
    "# @show S.^2\n",
    "@show trace(density_matrix*szn(k))\n",
    "@show sz_exp = (psi' * szn(k) *psi)[1]\n",
    "@show trace(DM_reduced*szn(Int(k/2)))\n",
    "\n",
    "@show trace(U*diagm(S.^2)*U'*szn(Int(k/2)))\n",
    "a = (U*diagm(S.^2)*U' - DM_reduced)\n",
    "map!(x -> abs(x) < 1e-14 ? 0 : x , a)\n",
    "find(a)"
   ]
  },
  {
   "cell_type": "code",
   "execution_count": 174,
   "metadata": {
    "collapsed": false
   },
   "outputs": [
    {
     "data": {
      "image/png": "[encoded data removed]",
      "text/plain": [
       "PyPlot.Figure(PyObject <matplotlib.figure.Figure object at 0x7f27f111cbe0>)"
      ]
     },
     "metadata": {},
     "output_type": "display_data"
    },
    {
     "data": {
      "text/plain": [
       "PyObject <matplotlib.text.Text object at 0x7f27f116d7f0>"
      ]
     },
     "execution_count": 174,
     "metadata": {},
     "output_type": "execute_result"
    }
   ],
   "source": [
    "k = 16\n",
    "# size = Int(2^(k-1))\n",
    "H = Hn[k]\n",
    "ev = eigs(H, nev=1)\n",
    "E = ev[1][1]\n",
    "psi = ev[2][:,1]\n",
    "sz_exp = (psi' * szn(k) *psi)[1]\n",
    "size = round(Int, 2^(k/2))\n",
    "psi_ij = reshape(psi, size, size)\n",
    "DM_reduced = psi_ij *psi_ij'\n",
    "U,S,V= svd(psi_ij)\n",
    "\n",
    "max_m = 20\n",
    "\n",
    "delta = Array{Float64}(0)\n",
    "sz_approx = Array{Float64}(0)\n",
    "\n",
    "for m in 1:max_m\n",
    "    DM_approx = U[:,1:m]*diagm(S[1:m].^2)*U'[1:m,:]\n",
    "    push!(delta, sum(S[m+1:end].^2) )\n",
    "    push!(sz_approx, trace(DM_approx * szn(Int(k/2))))\n",
    "\n",
    "end\n",
    "plot( delta,sz_approx - sz_exp,\"ob\")\n",
    "plt[:xlabel](L\"$\\delta_m$\",fontsize=20)\n",
    "plt[:ylabel](L\"$S_z^{app} - S_z$\",fontsize=20)"
   ]
  },
  {
   "cell_type": "code",
   "execution_count": 175,
   "metadata": {
    "collapsed": false
   },
   "outputs": [
    {
     "data": {
      "text/plain": [
       "20x2 Array{Float64,2}:\n",
       "  0.0115537    0.150028   \n",
       " -0.00107329   0.0899206  \n",
       " -0.00336131   0.0410928  \n",
       "  4.16437e-5   0.000593   \n",
       " -5.16375e-7   0.000383763\n",
       " -6.94541e-6   0.00021436 \n",
       "  5.01421e-6   7.37397e-5 \n",
       "  9.16302e-7   1.42505e-5 \n",
       "  3.78132e-8   9.83404e-6 \n",
       " -8.16651e-8   6.25993e-6 \n",
       "  2.12451e-7   3.30612e-6 \n",
       " -8.59397e-8   2.39713e-6 \n",
       " -1.77616e-7   1.67735e-6 \n",
       " -1.61908e-7   1.09171e-6 \n",
       " -8.91577e-8   6.05054e-7 \n",
       "  1.35719e-8   1.93722e-7 \n",
       "  6.01054e-10  1.25263e-7 \n",
       " -1.58731e-9   6.99336e-8 \n",
       "  1.65626e-9   2.39979e-8 \n",
       "  3.153e-10    5.02118e-9 "
      ]
     },
     "execution_count": 175,
     "metadata": {},
     "output_type": "execute_result"
    }
   ],
   "source": [
    "hcat(sz_approx - sz_exp,delta)"
   ]
  },
  {
   "cell_type": "code",
   "execution_count": 39,
   "metadata": {
    "collapsed": true
   },
   "outputs": [],
   "source": [
    "using TensorOperations"
   ]
  },
  {
   "cell_type": "code",
   "execution_count": 42,
   "metadata": {
    "collapsed": false
   },
   "outputs": [
    {
     "data": {
      "text/plain": [
       "3x2 Array{Float64,2}:\n",
       " 16.0  16.0\n",
       " 16.0  16.0\n",
       " 16.0  16.0"
      ]
     },
     "execution_count": 42,
     "metadata": {},
     "output_type": "execute_result"
    }
   ],
   "source": [
    "A = ones(2,2)\n",
    "B = ones(2,4,3)\n",
    "C = ones(2,4,2)\n",
    "\n",
    "@tensor begin\n",
    "    D[i,ip] := A[a,ap]*B[a,s,i]*C[ap,s,ip]\n",
    "end"
   ]
  },
  {
   "cell_type": "code",
   "execution_count": 42,
   "metadata": {
    "collapsed": false
   },
   "outputs": [
    {
     "name": "stdout",
     "output_type": "stream",
     "text": [
      "  0.620588 seconds (6.02 M allocations: 107.428 MB, 4.24% gc time)\n",
      "  0.000290 seconds (7 allocations: 78.375 KB)\n"
     ]
    }
   ],
   "source": [
    "n=100\n",
    "C = zeros(n,n)\n",
    "B = randn(n,n)\n",
    "A = randn(n,n)\n",
    "@time for i=1:n, j=1:n, k=1:n\n",
    "    C[i,k] += A[i,j]*B[j,k]\n",
    "end\n",
    "@time A*B;"
   ]
  },
  {
   "cell_type": "code",
   "execution_count": 53,
   "metadata": {
    "collapsed": false
   },
   "outputs": [
    {
     "data": {
      "text/plain": [
       "2x2 Array{Float64,2}:\n",
       " -0.0103426  -0.540344\n",
       "  1.28639    -0.621715"
      ]
     },
     "execution_count": 53,
     "metadata": {},
     "output_type": "execute_result"
    }
   ],
   "source": [
    "randn(2,2)"
   ]
  },
  {
   "cell_type": "code",
   "execution_count": 62,
   "metadata": {
    "collapsed": false
   },
   "outputs": [
    {
     "name": "stdout",
     "output_type": "stream",
     "text": [
      "  0.013201 seconds (90.04 k allocations: 2.749 MB)\n",
      "  0.016360 seconds (180.04 k allocations: 5.316 MB)\n"
     ]
    },
    {
     "data": {
      "text/plain": [
       "0"
      ]
     },
     "execution_count": 62,
     "metadata": {},
     "output_type": "execute_result"
    }
   ],
   "source": [
    "ep =1\n",
    "A = 2*randn(300,300)\n",
    "@time map(x -> x < ep ? 0 : x , A)\n",
    "@time A[find(x -> abs(x)< e,A)]=0"
   ]
  },
  {
   "cell_type": "code",
   "execution_count": 47,
   "metadata": {
    "collapsed": false
   },
   "outputs": [
    {
     "data": {
      "text/plain": [
       "f (generic function with 1 method)"
      ]
     },
     "execution_count": 47,
     "metadata": {},
     "output_type": "execute_result"
    }
   ],
   "source": [
    "function f(x)\n",
    "    x < ep ? 0 : x\n",
    "end"
   ]
  },
  {
   "cell_type": "code",
   "execution_count": 164,
   "metadata": {
    "collapsed": false
   },
   "outputs": [
    {
     "data": {
      "text/plain": [
       "1-element Array{Any,1}:\n",
       " 3"
      ]
     },
     "execution_count": 164,
     "metadata": {},
     "output_type": "execute_result"
    }
   ],
   "source": [
    "a=[]\n",
    "push!(a,3)"
   ]
  },
  {
   "cell_type": "code",
   "execution_count": 4,
   "metadata": {
    "collapsed": false
   },
   "outputs": [
    {
     "name": "stdout",
     "output_type": "stream",
     "text": [
      "a = [5,2,3]\n",
      "b = [1,2,3]\n"
     ]
    },
    {
     "data": {
      "text/plain": [
       "3-element Array{Int64,1}:\n",
       " 1\n",
       " 2\n",
       " 3"
      ]
     },
     "execution_count": 4,
     "metadata": {},
     "output_type": "execute_result"
    }
   ],
   "source": [
    "a=[1,2,3]\n",
    "b = copy(a)\n",
    "a[1]=5\n",
    "@show a\n",
    "@show b"
   ]
  },
  {
   "cell_type": "code",
   "execution_count": 3,
   "metadata": {
    "collapsed": false
   },
   "outputs": [
    {
     "data": {
      "text/plain": [
       "5"
      ]
     },
     "execution_count": 3,
     "metadata": {},
     "output_type": "execute_result"
    }
   ],
   "source": [
    "b[]"
   ]
  },
  {
   "cell_type": "code",
   "execution_count": null,
   "metadata": {
    "collapsed": true
   },
   "outputs": [],
   "source": []
  }
 ],
 "metadata": {
  "kernelspec": {
   "display_name": "Julia 0.4.5",
   "language": "julia",
   "name": "julia-0.4"
  },
  "language_info": {
   "file_extension": ".jl",
   "mimetype": "application/julia",
   "name": "julia",
   "version": "0.4.6"
  }
 },
 "nbformat": 4,
 "nbformat_minor": 0
}
