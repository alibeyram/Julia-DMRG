{
 "cells": [
  {
   "cell_type": "markdown",
   "metadata": {},
   "source": [
    "# HW4 Problem 1 \n",
    "https://eee.uci.edu/16s/48480/home/Homework+4.pdf"
   ]
  },
  {
   "cell_type": "code",
   "execution_count": 1,
   "metadata": {
    "collapsed": false
   },
   "outputs": [],
   "source": [
    "using TensorOperations\n",
    "using PyPlot"
   ]
  },
  {
   "cell_type": "code",
   "execution_count": 2,
   "metadata": {
    "collapsed": false
   },
   "outputs": [
    {
     "name": "stdout",
     "output_type": "stream",
     "text": [
      "n = size(A,1) = 10\n"
     ]
    }
   ],
   "source": [
    "function creatA(n)\n",
    "    A = [zeros(1,2,1) for i=1:n];\n",
    "\n",
    "    for i=1:n\n",
    "    A[i][1,iseven(i) ? 2 : 1,1] = 1.0\n",
    "    end\n",
    "    A\n",
    "end\n",
    "A = creatA(10);\n",
    "@show n = size(A,1);"
   ]
  },
  {
   "cell_type": "code",
   "execution_count": 3,
   "metadata": {
    "collapsed": false
   },
   "outputs": [
    {
     "data": {
      "text/plain": [
       "1x1 Array{Float64,2}:\n",
       " 1.0"
      ]
     },
     "execution_count": 3,
     "metadata": {},
     "output_type": "execute_result"
    }
   ],
   "source": [
    "reshape(A[1][1,:,:],2,1)' *reshape(A[1][1,:,:],2,1)"
   ]
  },
  {
   "cell_type": "markdown",
   "metadata": {},
   "source": [
    "### part a using for loop"
   ]
  },
  {
   "cell_type": "code",
   "execution_count": 4,
   "metadata": {
    "collapsed": false
   },
   "outputs": [
    {
     "name": "stdout",
     "output_type": "stream",
     "text": [
      "  0.070567 seconds (54.13 k allocations: 2.395 MB)\n"
     ]
    },
    {
     "data": {
      "text/plain": [
       "1.0"
      ]
     },
     "execution_count": 4,
     "metadata": {},
     "output_type": "execute_result"
    }
   ],
   "source": [
    "function normsq1(A)\n",
    "    B=zeros(1)\n",
    "    C = A[1]\n",
    "    # @show A[1]\n",
    "    # @show C\n",
    "    for x=1:n-1\n",
    "        for i=1:1, j=1:2, k1=1:1, k2=1:1\n",
    "            B[k1,k2] += C[i,j,k1] * A[x][i,j,k2]\n",
    "        end\n",
    "    #     @show C[1,:,1]\n",
    "        C = zeros(1,2,1)\n",
    "    #     @show C[1,:,1]\n",
    "\n",
    "        for i=1:1, j=1:2, k1=1:1, k2=1:1\n",
    "            C[k1,j,k2] += B[k1,i] *A[x+1][i,j,k2]\n",
    "        end\n",
    "        B=zeros(1)\n",
    "    end\n",
    "    answer = 0\n",
    "    for i=1:1, j=1:2, k=1:1\n",
    "        answer += C[i,j,k] * A[n][i,j,k]\n",
    "    end\n",
    "    answer\n",
    "end\n",
    "@time normsq1(A)"
   ]
  },
  {
   "cell_type": "markdown",
   "metadata": {},
   "source": [
    "### part b using Matrix product"
   ]
  },
  {
   "cell_type": "code",
   "execution_count": 5,
   "metadata": {
    "collapsed": false
   },
   "outputs": [
    {
     "data": {
      "text/plain": [
       "1x1 Array{Float64,2}:\n",
       " 1.0"
      ]
     },
     "execution_count": 5,
     "metadata": {},
     "output_type": "execute_result"
    }
   ],
   "source": [
    "## test to learn how it works\n",
    "temp = reshape(A[1],2,1)\n",
    "B = temp' * temp\n",
    "C = B * reshape(A[2],1,2)\n",
    "reshape(C,2,1)' * reshape(A[2],2,1)"
   ]
  },
  {
   "cell_type": "code",
   "execution_count": 6,
   "metadata": {
    "collapsed": false
   },
   "outputs": [
    {
     "name": "stdout",
     "output_type": "stream",
     "text": [
      "  0.064868 seconds (36.63 k allocations: 1.723 MB)\n"
     ]
    },
    {
     "data": {
      "text/plain": [
       "1.0"
      ]
     },
     "execution_count": 6,
     "metadata": {},
     "output_type": "execute_result"
    }
   ],
   "source": [
    "function normsq2(A)\n",
    "    n = size(A,1)\n",
    "    C=A[1]\n",
    "    for x=1:n-1\n",
    "#         B = reshape(C,2,1)' * reshape(A[x],2,1)\n",
    "#         C = B * reshape(A[x+1],1,2)\n",
    "        C = reshape(C,2,1)' * reshape(A[x],2,1) * reshape(A[x+1],1,2)\n",
    "    end\n",
    "    answer = reshape(C,2)' * reshape(A[n],2)\n",
    "    answer[1]\n",
    "end\n",
    "@time normsq2(A)\n",
    "    "
   ]
  },
  {
   "cell_type": "markdown",
   "metadata": {},
   "source": [
    "### part c using TensorOperations"
   ]
  },
  {
   "cell_type": "code",
   "execution_count": 7,
   "metadata": {
    "collapsed": false
   },
   "outputs": [
    {
     "name": "stdout",
     "output_type": "stream",
     "text": [
      "  1.957081 seconds (1.72 M allocations: 74.937 MB, 1.77% gc time)\n"
     ]
    },
    {
     "data": {
      "text/plain": [
       "1.0"
      ]
     },
     "execution_count": 7,
     "metadata": {},
     "output_type": "execute_result"
    }
   ],
   "source": [
    "function normsq3(A)\n",
    "    n = size(A,1)\n",
    "    C = A[1]\n",
    "    A2 = zeros(A[1])\n",
    "    A1 = zeros(A[1])\n",
    "    for x=1:n-1\n",
    "        A2 = A[x+1]\n",
    "#         @show A2\n",
    "        A1 = A[x]\n",
    "#         @show A1\n",
    "        @tensor begin\n",
    "            C[i,j,k] := A1[ip,jp,i] * C[ip,jp,kp] * A2[kp,j,k]\n",
    "        end\n",
    "    end\n",
    "#     An = A\n",
    "    @tensor begin\n",
    "        answer = scalar(C[i,j,k] * A2[i,j,k])\n",
    "        end\n",
    "    answer\n",
    "end\n",
    "@time normsq3(A)"
   ]
  },
  {
   "cell_type": "markdown",
   "metadata": {},
   "source": [
    "# Problem 2 moving orthogonality center"
   ]
  },
  {
   "cell_type": "code",
   "execution_count": 8,
   "metadata": {
    "collapsed": true
   },
   "outputs": [],
   "source": [
    "type MPS\n",
    "A\n",
    "oc::Int64\n",
    "end"
   ]
  },
  {
   "cell_type": "code",
   "execution_count": 9,
   "metadata": {
    "collapsed": false
   },
   "outputs": [
    {
     "name": "stdout",
     "output_type": "stream",
     "text": [
      "psi.oc = 7\n",
      "psi.A[5:9] = [\n",
      "[1.0 0.0],\n",
      "\n",
      "[0.0 -1.0],\n",
      "\n",
      "[-1.0 0.0],\n",
      "\n",
      "[0.0 1.0],\n",
      "\n",
      "[1.0 0.0]]\n",
      "normsq3(psi.A) = 1.0\n",
      "psi.oc = 2\n",
      "psi.A[5:-1:1] = [\n",
      "[1.0 0.0],\n",
      "\n",
      "[0.0 1.0],\n",
      "\n",
      "[1.0 0.0],\n",
      "\n",
      "[0.0 -1.0],\n",
      "\n",
      "[1.0 0.0]]\n",
      "normsq3(psi.A) = 1.0\n"
     ]
    },
    {
     "data": {
      "text/plain": [
       "1.0"
      ]
     },
     "execution_count": 9,
     "metadata": {},
     "output_type": "execute_result"
    }
   ],
   "source": [
    "function moveto!(psi::MPS, i::Int64)\n",
    "    oc = psi.oc\n",
    "    oc==i && return psi\n",
    "    A = psi.A\n",
    "    if i> oc\n",
    "        for x=oc:i-1\n",
    "            m1, d, m2 = size(A[x])\n",
    "            m2t, dt, m3 = size(A[x+1])\n",
    "            (m2 !=m2t || d!= dt ) && return \"error mismatch dimension in moveto! right\"\n",
    "            Q, R=qr(reshape(A[x],d * m1, m2))    ##\n",
    "            A[x] = reshape(Q, m1, d, m2)\n",
    "            A[x+1] = reshape(R* reshape(A[x+1], m2, d*m3), m2, d, m3)\n",
    "            psi.oc = x+1\n",
    "        end\n",
    "    else\n",
    "        for x=oc:-1:i+1\n",
    "            m1, d, m2 = size(A[x-1])\n",
    "            m2t, dt, m3 = size(A[x])\n",
    "            (m2 !=m2t || d!= dt ) && return \"error mismatch dimension in moveto! left\"\n",
    "            Q, R=qr(reshape(A[x], m2, d*m3)')\n",
    "            A[x] = reshape(Q', m2, d, m3)\n",
    "            A[x-1] = reshape(reshape(A[x-1],d*m1 ,m2) * R', m1, d, m2)\n",
    "            psi.oc = x-1\n",
    "        end\n",
    "            \n",
    "    end\n",
    "    psi.A = A\n",
    "    psi\n",
    "end\n",
    "psi=MPS(deepcopy(A),5);\n",
    "moveto!(psi,7)\n",
    "@show psi.oc\n",
    "@show psi.A[5:9]\n",
    "@show normsq3(psi.A) ## testing the norm that shouldn't change\n",
    "moveto!(psi,2)\n",
    "@show psi.oc\n",
    "@show psi.A[5:-1:1]\n",
    "@show normsq3(psi.A) ## testing the norm that shouldn't change"
   ]
  },
  {
   "cell_type": "markdown",
   "metadata": {},
   "source": [
    "## Problem 3 energy bond function"
   ]
  },
  {
   "cell_type": "code",
   "execution_count": 10,
   "metadata": {
    "collapsed": false
   },
   "outputs": [
    {
     "data": {
      "text/plain": [
       "true"
      ]
     },
     "execution_count": 10,
     "metadata": {},
     "output_type": "execute_result"
    }
   ],
   "source": [
    "sz = Float64[0.5 0; 0 -0.5] ; sp = Float64[0 1; 0 0] ; sm = sp'\n",
    "Htwosite = Float64[sz[s1,s1p] * sz[s2,s2p] + 0.5 * (sp[s1,s1p] * sm[s2,s2p] +\n",
    "sm[s1,s1p] * sp[s2,s2p]) for s1=1:2, s2=1:2, s1p=1:2, s2p=1:2]\n",
    "## this is the same as doing kron \n",
    "h_test = 0.5 * (kron(sp,sm) + kron(sm,sp)) + kron(sz,sz)\n",
    "reshape(h_test,2,2,2,2)==Htwosite"
   ]
  },
  {
   "cell_type": "code",
   "execution_count": 11,
   "metadata": {
    "collapsed": false
   },
   "outputs": [
    {
     "data": {
      "text/plain": [
       "0.25"
      ]
     },
     "execution_count": 11,
     "metadata": {},
     "output_type": "execute_result"
    }
   ],
   "source": [
    "Htwosite[1,]"
   ]
  },
  {
   "cell_type": "code",
   "execution_count": 12,
   "metadata": {
    "collapsed": false
   },
   "outputs": [
    {
     "name": "stdout",
     "output_type": "stream",
     "text": [
      "energybond(psi,1) = -0.25\n",
      "A = [\n",
      "[1.0 0.0],\n",
      "\n",
      "[0.0 1.0],\n",
      "\n",
      "[1.0 0.0],\n",
      "\n",
      "[0.0 1.0],\n",
      "\n",
      "[1.0 0.0]]\n"
     ]
    },
    {
     "data": {
      "text/plain": [
       "1.0"
      ]
     },
     "execution_count": 12,
     "metadata": {},
     "output_type": "execute_result"
    }
   ],
   "source": [
    "# psi=MPS(deepcopy(A), 4);\n",
    "A = creatA(5)\n",
    "psi=MPS(A, 1);\n",
    "function energybond(psi::MPS, i::Int64)\n",
    "    moveto!(psi,i)\n",
    "    Ai = psi.A[i]\n",
    "    Ai1 = psi.A[i+1]\n",
    "    H = Htwosite\n",
    "#     @show H\n",
    "    @tensor begin\n",
    "        answer[] := Ai[i1,k,i2] * Ai1[i2,k1,i3]* H[k, k1, kp, k1p] * Ai[i1, kp, i2p] * Ai1[i2p,k1p,i3]\n",
    "        Norm =  scalar(Ai[i1,k,i2] * Ai1[i2,k1,i3] * Ai[i1, k, i2p] * Ai1[i2p,k1,i3])\n",
    "    end\n",
    "#     assert(Norm > 0.9)\n",
    "#     return answer[1]\n",
    "    answer[1] / Norm[1]\n",
    "#     @show Norm\n",
    "end\n",
    "@show energybond(psi,1)\n",
    "@show A\n",
    "normsq3(A)"
   ]
  },
  {
   "cell_type": "code",
   "execution_count": 13,
   "metadata": {
    "collapsed": false
   },
   "outputs": [
    {
     "data": {
      "text/plain": [
       "0.0"
      ]
     },
     "execution_count": 13,
     "metadata": {},
     "output_type": "execute_result"
    }
   ],
   "source": [
    "A1 = creatA(5)\n",
    "B1 = creatA(5)\n",
    "B1[5][1,1,1] =0\n",
    "B1[5][1,2,1] =1\n",
    "# @show B1\n",
    "# @show A1\n",
    "C = A1[1]\n",
    "# A2 = zeros(A[1])\n",
    "# A1 = zeros(A[1])\n",
    "n=5\n",
    "for x=1:n-1\n",
    "    Ax1 = A1[x+1]\n",
    "#         @show Ax1\n",
    "    Bx = B1[x]\n",
    "#         @show Bx\n",
    "    @tensor begin\n",
    "        C[i,j,k] := Bx[ip,jp,i] * C[ip,jp,kp] * Ax1[kp,j,k]\n",
    "    end\n",
    "#     @show C\n",
    "end\n",
    "Bx = B1[n]\n",
    "# @show Bx\n",
    "@tensor begin\n",
    "    answer = scalar(C[i,j,k] * Bx[i,j,k])\n",
    "    end\n",
    "answer\n",
    "\n",
    "\n"
   ]
  },
  {
   "cell_type": "markdown",
   "metadata": {},
   "source": [
    "Test to see how does one site operator works "
   ]
  },
  {
   "cell_type": "code",
   "execution_count": 14,
   "metadata": {
    "collapsed": false
   },
   "outputs": [
    {
     "name": "stdout",
     "output_type": "stream",
     "text": [
      "sx = 0.5 * (sp + sm) = [0.0 0.5\n",
      " 0.5 0.0]\n",
      "A_at5 = A1[5] = [1.0 0.0]\n",
      "B_at5 = B1[5] = [0.0 1.0]\n",
      "B1[5] = [0.0 1.0]\n"
     ]
    },
    {
     "ename": "LoadError",
     "evalue": "LoadError: TensorOperations.IndexError{ASCIIString}(\"invalid number of indices: ()\")\nwhile loading In[14], in expression starting on line 7",
     "output_type": "error",
     "traceback": [
      "LoadError: TensorOperations.IndexError{ASCIIString}(\"invalid number of indices: ()\")\nwhile loading In[14], in expression starting on line 7",
      ""
     ]
    }
   ],
   "source": [
    "@show sx = .5(sp +sm)\n",
    "@show A_at5 = A1[5]\n",
    "@show B_at5 = B1[5]\n",
    "@show B1[5]\n",
    "@tensor begin\n",
    "    test[i,k,j] := sx[k,kp] * B_at5[i,kp,j]\n",
    "    answer = scalar(A_at5[i,k,j]* sz[k , kp] * A_at5[i,kp,j])\n",
    "end\n",
    "@show test\n",
    "answer"
   ]
  },
  {
   "cell_type": "markdown",
   "metadata": {},
   "source": [
    "## Problem 4 TEBD"
   ]
  },
  {
   "cell_type": "code",
   "execution_count": 15,
   "metadata": {
    "collapsed": false,
    "scrolled": true
   },
   "outputs": [
    {
     "name": "stdout",
     "output_type": "stream",
     "text": [
      "Initializing energy at Neel state -0.25\n",
      " Energy per site forward sweep 500 = -0.41451665102535107\n",
      " Energy per site backward sweep 500 = -0.4145511135284071\n",
      " Energy per site forward sweep 1000 = -0.4295472667221148\n",
      " Energy per site backward sweep 1000 = -0.42955319496779104\n",
      " Energy per site forward sweep 1500 = -0.4330210300850453\n",
      " Energy per site backward sweep 1500 = -0.433023006719828\n",
      " Energy per site forward sweep 2000 = -0.4343703536375754\n",
      " Energy per site backward sweep 2000 = -0.43437126539293675\n",
      " Energy per site forward sweep 2500 = -0.43505580280115386\n",
      " Energy per site backward sweep 2500 = -0.4350563187608221\n",
      " Energy per site forward sweep 3000 = -0.43547294665877084\n",
      " Energy per site backward sweep 3000 = -0.43547328600393675\n",
      " Energy per site forward sweep 3500 = -0.43576215439576654\n",
      " Energy per site backward sweep 3500 = -0.43576240210841843\n",
      " Energy per site forward sweep 4000 = -0.4359802164032772\n",
      " Energy per site backward sweep 4000 = -0.4359804086681958\n",
      " Energy per site forward sweep 4500 = -0.4361522572806653\n",
      " Energy per site backward sweep 4500 = -0.43615241102013175\n",
      " Energy per site forward sweep 5000 = -0.43629071996642654\n",
      " Energy per site backward sweep 5000 = -0.4362908442984681\n",
      " Energy per site forward sweep 5500 = -0.43640286548764523\n",
      " Energy per site backward sweep 5500 = -0.43640296616754\n",
      " Energy per site forward sweep 6000 = -0.4364935988292587\n",
      " Energy per site backward sweep 6000 = -0.4364936802654559\n",
      " Energy per site forward sweep 6500 = -0.4365668449247712\n",
      " Energy per site backward sweep 6500 = -0.4365669105955453\n",
      " Energy per site forward sweep 7000 = -0.43662563664166903\n",
      " Energy per site backward sweep 7000 = -0.43662568912484595\n",
      " Energy per site forward sweep 7500 = -0.4366726058620217\n",
      " Energy per site backward sweep 7500 = -0.43667264787264837\n",
      " Energy per site forward sweep 8000 = -0.4367100167824445\n",
      " Energy per site backward sweep 8000 = -0.43671005003361013\n",
      " Energy per site forward sweep 8500 = -0.43673956941862335\n",
      " Energy per site backward sweep 8500 = -0.4367395956278538\n",
      " Energy per site forward sweep 9000 = -0.43676295163654794\n",
      " Energy per site backward sweep 9000 = -0.43676297229090694\n",
      " Energy per site forward sweep 9500 = -0.4367813255519816\n",
      " Energy per site backward sweep 9500 = -0.43678134189717516\n",
      " Energy per site forward sweep 10000 = -0.4367958856779384\n",
      " Energy per site backward sweep 10000 = -0.4367958985048445\n",
      "psi.oc = 1\n"
     ]
    },
    {
     "data": {
      "image/png": "[encoded data removed]",
      "text/plain": [
       "PyPlot.Figure(PyObject <matplotlib.figure.Figure object at 0x7f8686f17898>)"
      ]
     },
     "metadata": {},
     "output_type": "display_data"
    },
    {
     "data": {
      "text/plain": [
       "PyObject <matplotlib.lines.Line2D object at 0x7f8680e0cba8>"
      ]
     },
     "execution_count": 15,
     "metadata": {},
     "output_type": "execute_result"
    }
   ],
   "source": [
    "function dosvdtoright(AA, m)\n",
    "    m1= size(AA, 1)     ## find the size of first dimension \n",
    "    m2= size(AA, 4)     ## find the size of forth dimension \n",
    "    d = size(AA, 2)      ## find size of physical index\n",
    "    F = svdfact(reshape(AA, d * m1, d * m2)) \n",
    "    x = m1 <m2 ? m1*d : m2*d   ## choosing the smaller one since we are using the thin format of SVD\n",
    "    x = x<m ? x : m ## truncation to m state\n",
    "    A = reshape(F[:U][:, 1:x] , m1, d, x)\n",
    "    A1 = reshape(diagm(F[:S][1:x]) * F[:Vt][1:x ,:], x, d, m2)\n",
    "    return  (A, A1)\n",
    "#     return (reshape(F[:U], m1, d, x) , reshape(diagm(F[:S])*F[:Vt], x, d, m2))\n",
    "#     U[:,1:m]*diagm(S[1:m])*V'[1:m,:],\n",
    "end\n",
    "\n",
    "function dosvdtoleft(AA, m)\n",
    "    m1= size(AA, 1)     ## find the size of first dimension \n",
    "    m2= size(AA, 4)     ## find the size of forth dimension \n",
    "    d = size(AA, 2)      ## find size of physical index\n",
    "    F = svdfact(reshape(AA, d * m1, d * m2)) \n",
    "    x = m1 <m2 ? m1*d : m2*d  ## choosing the smaller one since we are using the thin format of SVD\n",
    "    x = x<m ? x : m ## truncation to m state\n",
    "    A = reshape(F[:U][:, 1:x]*  diagm(F[:S][1:x]) , m1, d, x)\n",
    "    A1 = reshape(F[:Vt][1:x ,:], x, d, m2)\n",
    "    return  (A, A1)\n",
    "end\n",
    "\n",
    "function sweep(psi, Num_sweeps, m)\n",
    "    E_per_N = []\n",
    "    N = size(psi.A,1)\n",
    "    for x=1:Num_sweeps\n",
    "        Energy = 0.0\n",
    "        for i=1:N-1\n",
    "            Energy += energybond(psi, i)\n",
    "            Ai = psi.A[i]\n",
    "            Ai1 = psi.A[i+1]\n",
    "            @tensor begin\n",
    "                AA[a,f,g,e] := Ai[a,b,c] * Ai1[c,d,e] * taugate[b,d,f,g]\n",
    "                norm = scalar(AA[a,f,g,e] * AA[a,f,g,e])\n",
    "                AA /= norm\n",
    "            end\n",
    "            (psi.A[i],psi.A[i+1]) = dosvdtoright(AA,m)\n",
    "  \n",
    "            psi.oc = i+1\n",
    "        end\n",
    "#         x%500 ==1 && println(\" Norm = $(normsq3(psi.A))\")\n",
    "        x%500 ==0 && println(\" Energy per site forward sweep $x = $(Energy/N)\")\n",
    "        Energy = 0.0\n",
    "        \n",
    "        for i=N-1:-1:1\n",
    "            Energy += energybond(psi, i)\n",
    "            Ai = psi.A[i]\n",
    "            Ai1 = psi.A[i+1]\n",
    "            @tensor begin\n",
    "                AA[a,f,g,e] := Ai[a,b,c] * Ai1[c,d,e] * taugate[b,d,f,g]\n",
    "                norm = scalar(AA[a,f,g,e] * AA[a,f,g,e])\n",
    "                AA /= norm\n",
    "            end\n",
    "            (psi.A[i],psi.A[i+1]) = dosvdtoleft(AA,m)\n",
    "            psi.oc = i\n",
    "        end\n",
    "        push!(E_per_N, Energy/N)\n",
    "        x%500 ==0 && println(\" Energy per site backward sweep $x = $(Energy/N)\")\n",
    "        \n",
    "#         x%500 ==1 && println(\"E_middle full sweep $x =  $(energybond(psi, Int64(N/2)))\") \n",
    "    end\n",
    "    return (E_per_N, psi)\n",
    "end\n",
    "const N = 30\n",
    "A = creatA(N)\n",
    "psi=MPS(A, 2);\n",
    "tau = 0.001\n",
    "taugate = reshape(expm(- tau * reshape(Htwosite,4,4)),2,2,2,2);\n",
    "\n",
    "println(\"Initializing energy at Neel state $(energybond(psi, Int64(N/2)))\")\n",
    "\n",
    "Num_sweeps = 10000\n",
    "Max_State = 15\n",
    "En , psi = sweep(psi, Num_sweeps, Max_State);\n",
    "\n",
    "@show psi.oc\n",
    "\n",
    "plot(1:Num_sweeps, En, \"b\")\n",
    "title(\"TEBD for Heisenberg\")\n",
    "xlabel(\"Number of sweeps\")\n",
    "ylabel(L\"$E$\", rotation=0, fontsize = 20)\n",
    "plt[:axhline](1/4-log(2),c=\"k\", ls=\":\")\n"
   ]
  },
  {
   "cell_type": "code",
   "execution_count": 18,
   "metadata": {
    "collapsed": false
   },
   "outputs": [
    {
     "data": {
      "image/png": "[encoded data removed]",
      "text/plain": [
       "PyPlot.Figure(PyObject <matplotlib.figure.Figure object at 0x7f8680e137f0>)"
      ]
     },
     "metadata": {},
     "output_type": "display_data"
    }
   ],
   "source": [
    "## plotting bound energy for every sites\n",
    "Num_Bonds = size(psi.A)[1]-1\n",
    "E_bonds = zeros(Num_Bonds)\n",
    "for i=1:Num_Bonds\n",
    "    E_bonds[i] = energybond(psi, i)\n",
    "end\n",
    "plot(1:Num_Bonds, E_bonds)\n",
    "title(\"TEBD for Heisenberg \")\n",
    "xlabel(\"Bond number\")\n",
    "ylabel(L\"$E$\", rotation=0, fontsize = 20)\n",
    "plt[:axhline](1/4-log(2),c=\"k\", ls=\":\");   ### Bethe anzats"
   ]
  },
  {
   "cell_type": "code",
   "execution_count": 17,
   "metadata": {
    "collapsed": false,
    "scrolled": true
   },
   "outputs": [
    {
     "data": {
      "text/plain": [
       "5x4 Array{Float64,2}:\n",
       " 1.0  1.0  1.0  1.0\n",
       " 1.0  1.0  1.0  1.0\n",
       " 1.0  1.0  1.0  1.0\n",
       " 1.0  1.0  1.0  1.0\n",
       " 1.0  1.0  1.0  1.0"
      ]
     },
     "execution_count": 17,
     "metadata": {},
     "output_type": "execute_result"
    }
   ],
   "source": [
    "A1 = zeros(3,2)\n",
    "for i=1:5\n",
    "    A1 = ones(5,4)\n",
    "end\n",
    "A1"
   ]
  }
 ],
 "metadata": {
  "kernelspec": {
   "display_name": "Julia 0.4.5",
   "language": "julia",
   "name": "julia-0.4"
  },
  "language_info": {
   "file_extension": ".jl",
   "mimetype": "application/julia",
   "name": "julia",
   "version": "0.4.5"
  }
 },
 "nbformat": 4,
 "nbformat_minor": 0
}
